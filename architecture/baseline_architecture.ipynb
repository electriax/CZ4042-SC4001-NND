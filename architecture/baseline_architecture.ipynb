{
 "cells": [
  {
   "cell_type": "markdown",
   "metadata": {},
   "source": [
    "imports"
   ]
  },
  {
   "cell_type": "code",
   "execution_count": 1,
   "metadata": {},
   "outputs": [],
   "source": [
    "import os\n",
    "import torch\n",
    "import torch.nn as nn\n",
    "import torch.optim as optim\n",
    "from torchvision import datasets, transforms\n",
    "from torch.utils.data import DataLoader, Dataset\n",
    "from sklearn.metrics import accuracy_score, precision_score, recall_score, f1_score\n",
    "from pathlib import Path\n",
    "from PIL import Image"
   ]
  },
  {
   "cell_type": "markdown",
   "metadata": {},
   "source": [
    "benkaddour architecture\n",
    "\n",
    "\n",
    "Training iteration 40000 - 80000 epochs\n",
    "\n",
    "Dropout probability (keep dropout) 0.8\n",
    "\n",
    "Dropout probability (ratsige dropout) 0.2\n",
    "\n",
    "learning rate 0.00001\n",
    "\n",
    "Activation function ReLU\n",
    "\n",
    "Number of hidden units 512/128\n",
    "\n",
    "Number of layers (Convolution-Pooling) 4\n",
    "\n",
    "Classification function for age estimation Softmax\n",
    "\n",
    "Classication function for gender Sigmoid"
   ]
  },
  {
   "cell_type": "code",
   "execution_count": 2,
   "metadata": {},
   "outputs": [],
   "source": [
    "class BenkaddourDataset(Dataset):\n",
    "    def __init__(self, image_paths, labels, transform=None):\n",
    "        self.image_paths = image_paths\n",
    "        self.labels = labels\n",
    "        self.transform = transform\n",
    "\n",
    "    def __len__(self):\n",
    "        return len(self.image_paths)\n",
    "\n",
    "    def __getitem__(self, idx):\n",
    "        image = Image.open(self.image_paths[idx]).convert('RGB')\n",
    "        if self.transform:\n",
    "            image = self.transform(image)\n",
    "        label = torch.tensor(self.labels[idx], dtype=torch.float32)\n",
    "        return image, label\n"
   ]
  },
  {
   "cell_type": "code",
   "execution_count": 3,
   "metadata": {},
   "outputs": [],
   "source": [
    "class BenkaddourCNN(nn.Module):\n",
    "    def __init__(self):\n",
    "        super(BenkaddourCNN, self).__init__()\n",
    "        \n",
    "        self.conv1 = nn.Conv2d(3, 16, kernel_size=3, padding=1)\n",
    "        self.conv2 = nn.Conv2d(16, 32, kernel_size=3, padding=1)\n",
    "        self.conv3 = nn.Conv2d(32, 64, kernel_size=3, padding=1)\n",
    "        self.conv4 = nn.Conv2d(64, 128, kernel_size=3, padding=1)\n",
    "\n",
    "        self.pool = nn.MaxPool2d(kernel_size=2, stride=1)\n",
    "        self.adaptive_pool = nn.AdaptiveAvgPool2d((6, 7))\n",
    "\n",
    "        self.fc1 = nn.Linear(128 * 6 * 7, 5376)\n",
    "        self.fc2 = nn.Linear(5376, 512)\n",
    "        self.fc3 = nn.Linear(512, 128)\n",
    "        self.dropout = nn.Dropout(p=0.2)\n",
    "        self.output = nn.Linear(128, 1)\n",
    "\n",
    "    def forward(self, x):\n",
    "        x = self.pool(torch.relu(self.conv1(x)))\n",
    "        x = self.pool(torch.relu(self.conv2(x)))\n",
    "        x = self.pool(torch.relu(self.conv3(x)))\n",
    "        x = self.pool(torch.relu(self.conv4(x)))\n",
    "        x = self.adaptive_pool(x)\n",
    "        x = x.view(x.size(0), -1)\n",
    "        x = self.dropout(self.fc1(x))\n",
    "        x = self.dropout(self.fc2(x))\n",
    "        x = self.dropout(self.fc3(x))\n",
    "        x = torch.sigmoid(self.output(x))\n",
    "        return x"
   ]
  },
  {
   "cell_type": "markdown",
   "metadata": {},
   "source": [
    "dataloaders"
   ]
  },
  {
   "cell_type": "code",
   "execution_count": 4,
   "metadata": {},
   "outputs": [],
   "source": [
    "def load_folds_dataset(image_root, fold_dir, fold_files):\n",
    "    image_paths = []\n",
    "    labels = []\n",
    "\n",
    "    for fold_file in fold_files:\n",
    "        with open(os.path.join(fold_dir, fold_file), 'r') as f:\n",
    "            for line in f:\n",
    "                parts = line.strip().split()\n",
    "                if len(parts) < 2:\n",
    "                    continue  \n",
    "                name_id, gender = parts[0], parts[4]\n",
    "                label = 1 if gender.lower() == 'm' else 0\n",
    "                person_dir = os.path.join(image_root, name_id)\n",
    "\n",
    "                if not os.path.isdir(person_dir):\n",
    "                    continue\n",
    "\n",
    "                for img_file in os.listdir(person_dir):\n",
    "                    if img_file.lower().endswith(('.jpg', '.jpeg', '.png')):\n",
    "                        image_paths.append(os.path.join(person_dir, img_file))\n",
    "                        labels.append(label)\n",
    "\n",
    "    return image_paths, labels\n"
   ]
  },
  {
   "cell_type": "code",
   "execution_count": 5,
   "metadata": {},
   "outputs": [],
   "source": [
    "CURRENT_DIR = os.getcwd()\n",
    "MAIN_FOLDER = Path(CURRENT_DIR).parent\n",
    "OUTPUT_FOLDER = os.path.join(MAIN_FOLDER, 'aligned')  \n",
    "FOLD_DATA = os.path.join(MAIN_FOLDER, 'fold_data')    \n",
    "\n",
    "# Transforms\n",
    "transform = transforms.Compose([\n",
    "    transforms.Resize((92, 112)),\n",
    "    transforms.ToTensor(),\n",
    "])"
   ]
  },
  {
   "cell_type": "markdown",
   "metadata": {},
   "source": [
    "model"
   ]
  },
  {
   "cell_type": "code",
   "execution_count": 6,
   "metadata": {},
   "outputs": [],
   "source": [
    "def compute_metrics(y_true, y_pred):\n",
    "    acc = accuracy_score(y_true, y_pred)\n",
    "    prec = precision_score(y_true, y_pred)\n",
    "    rec = recall_score(y_true, y_pred)\n",
    "    f1 = f1_score(y_true, y_pred)\n",
    "    return acc, prec, rec, f1\n",
    "\n",
    "\n",
    "def evaluate(model, dataloader, device):\n",
    "    model.eval()\n",
    "    y_true = []\n",
    "    y_pred = []\n",
    "\n",
    "    with torch.no_grad():\n",
    "        for images, labels in dataloader:\n",
    "            images = images.to(device)\n",
    "            labels = labels.to(device).cpu().numpy()\n",
    "\n",
    "            outputs = model(images)\n",
    "            predictions = (outputs.cpu().numpy() > 0.5).astype(int)\n",
    "\n",
    "            y_true.extend(labels)\n",
    "            y_pred.extend(predictions)\n",
    "\n",
    "    return compute_metrics(y_true, y_pred)"
   ]
  },
  {
   "cell_type": "code",
   "execution_count": 7,
   "metadata": {},
   "outputs": [
    {
     "name": "stdout",
     "output_type": "stream",
     "text": [
      "Fold 1/4 — Validation: fold_0_data.txt, Train on: ['fold_1_data.txt', 'fold_2_data.txt', 'fold_3_data.txt'], Test on: fold_4_data.txt\n"
     ]
    }
   ],
   "source": [
    "# training loop\n",
    "all_folds = [f'fold_{i}_data.txt' for i in range(0, 5)]\n",
    "test_fold = 'fold_4_data.txt'\n",
    "cv_folds = [f for f in all_folds if f != test_fold]\n",
    "\n",
    "epochs = 10\n",
    "device = torch.device('cuda' if torch.cuda.is_available() else 'cpu')\n",
    "\n",
    "for i in range(4):\n",
    "    val_fold = cv_folds[i]\n",
    "    train_folds = [f for j, f in enumerate(cv_folds) if j != i]\n",
    "\n",
    "    print(f\"Fold {i+1}/4 — Validation: {val_fold}, Train on: {train_folds}, Test on: {test_fold}\")\n",
    "\n",
    "    # Load data\n",
    "    train_paths, train_labels = load_folds_dataset(OUTPUT_FOLDER, FOLD_DATA, train_folds)\n",
    "    val_paths, val_labels = load_folds_dataset(OUTPUT_FOLDER, FOLD_DATA, [val_fold])\n",
    "\n",
    "    train_dataset = BenkaddourDataset(train_paths, train_labels, transform)\n",
    "    val_dataset = BenkaddourDataset(val_paths, val_labels, transform)\n",
    "\n",
    "    train_loader = DataLoader(train_dataset, batch_size=32, shuffle=True)\n",
    "    val_loader = DataLoader(val_dataset, batch_size=32, shuffle=False)\n",
    "\n",
    "    model = BenkaddourCNN().to(device)\n",
    "    criterion = nn.BCELoss()\n",
    "    optimizer = optim.Adam(model.parameters(), lr=1e-5)\n",
    "\n",
    "    for epoch in range(epochs):\n",
    "        model.train()\n",
    "        running_loss = 0\n",
    "        y_train_true, y_train_pred = [], []\n",
    "\n",
    "        for images, labels in train_loader:\n",
    "            images, labels = images.to(device), labels.unsqueeze(1).to(device)\n",
    "            outputs = model(images)\n",
    "            loss = criterion(outputs, labels)\n",
    "\n",
    "            optimizer.zero_grad()\n",
    "            loss.backward()\n",
    "            optimizer.step()\n",
    "\n",
    "            running_loss += loss.item()\n",
    "\n",
    "            y_train_true.extend(labels.cpu().numpy())\n",
    "            y_train_pred.extend((outputs.detach().cpu().numpy() > 0.5).astype(int))\n",
    "\n",
    "        # Log training metrics\n",
    "        train_acc, train_prec, train_rec, train_f1 = compute_metrics(y_train_true, y_train_pred)\n",
    "\n",
    "        # Evaluate on val\n",
    "        val_acc, val_prec, val_rec, val_f1 = evaluate(model, val_loader, device)\n",
    "\n",
    "        print(f\"Epoch {epoch+1}/{epochs} | \"\n",
    "              f\"Loss: {running_loss/len(train_loader):.4f} | \"\n",
    "              f\"Train Acc: {train_acc:.4f} | Val Acc: {val_acc:.4f} | \"\n",
    "              f\"Train F1: {train_f1:.4f} | Val F1: {val_f1:.4f}\")"
   ]
  },
  {
   "cell_type": "markdown",
   "metadata": {},
   "source": [
    "test evaluation"
   ]
  },
  {
   "cell_type": "code",
   "execution_count": null,
   "metadata": {},
   "outputs": [],
   "source": [
    "# Final evaluation on unseen test set (fold_4.txt)\n",
    "print(\"Test Evaluation\")\n",
    "\n",
    "test_paths, test_labels = load_folds_dataset(OUTPUT_FOLDER, FOLD_DATA, [test_fold])\n",
    "test_dataset = BenkaddourDataset(test_paths, test_labels, transform)\n",
    "test_loader = DataLoader(test_dataset, batch_size=32, shuffle=False)\n",
    "\n",
    "test_acc, test_prec, test_rec, test_f1 = evaluate(model, test_loader, device)\n",
    "print(f\"Test Accuracy : {test_acc:.4f}\")\n",
    "print(f\"Test Precision: {test_prec:.4f}\")\n",
    "print(f\"Test Recall   : {test_rec:.4f}\")\n",
    "print(f\"Test F1 Score : {test_f1:.4f}\")"
   ]
  }
 ],
 "metadata": {
  "kernelspec": {
   "display_name": "Python 3.10.16 ('nnd-proj')",
   "language": "python",
   "name": "python3"
  },
  "language_info": {
   "codemirror_mode": {
    "name": "ipython",
    "version": 3
   },
   "file_extension": ".py",
   "mimetype": "text/x-python",
   "name": "python",
   "nbconvert_exporter": "python",
   "pygments_lexer": "ipython3",
   "version": "3.10.16"
  },
  "vscode": {
   "interpreter": {
    "hash": "7d35847a81d04982eada992d08a9263599c89e02e5617a63ef7ca9fdfb1e8cbc"
   }
  }
 },
 "nbformat": 4,
 "nbformat_minor": 2
}
